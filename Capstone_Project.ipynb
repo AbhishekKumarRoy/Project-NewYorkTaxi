{
 "cells": [
  {
   "cell_type": "markdown",
   "metadata": {},
   "source": [
    "# 1. Introduction\n",
    "\n",
    "This is a comprehensive Exploratory Data Analysis for the New York City Taxi Trip with python language using numpy, pandas, matplotlib and seaborn.\n",
    "\n",
    "The goal of this playground challenge is to make meaningful insights from the data of green taxis in the month of december 2019.\n"
   ]
  },
  {
   "cell_type": "markdown",
   "metadata": {},
   "source": [
    "# 1.1 Loading Libraries: \n",
    "\n",
    "- Pandas - Pandas library is used for manipulation of data.\n",
    "- Numpy - Numpy library is used to perform on matrix or array and fast execution code\n",
    "- Matplotlib - This library is used for data visualization.\n",
    "- Seaborn - Seaborn is also used for data visualization with more attractive and effecftive way"
   ]
  },
  {
   "cell_type": "code",
   "execution_count": 5,
   "metadata": {},
   "outputs": [],
   "source": [
    "import pandas as pd\n",
    "import numpy as np\n",
    "import seaborn as sns\n",
    "import matplotlib.pyplot as plt\n",
    "%matplotlib inline"
   ]
  },
  {
   "cell_type": "markdown",
   "metadata": {},
   "source": [
    "# 1.2 Load data\n",
    "\n",
    "I am Loading the green taxi CSV file data for the month Dec'19 by taking the path of the file. I am also giving the link for this file, where you can get this CSV file: https://www1.nyc.gov/site/tlc/about/tlc-trip-record-data.page"
   ]
  },
  {
   "cell_type": "code",
   "execution_count": 6,
   "metadata": {},
   "outputs": [
    {
     "name": "stderr",
     "output_type": "stream",
     "text": [
      "C:\\Users\\vikas\\Anaconda3\\lib\\site-packages\\IPython\\core\\interactiveshell.py:3020: DtypeWarning: Columns (3) have mixed types. Specify dtype option on import or set low_memory=False.\n",
      "  interactivity=interactivity, compiler=compiler, result=result)\n"
     ]
    }
   ],
   "source": [
    "filepath = r\"E:\\Capstone Project (Green Taxi)\\green_tripdata_2019-12.csv\"\n",
    "data = pd.read_csv(filepath)"
   ]
  },
  {
   "cell_type": "markdown",
   "metadata": {},
   "source": [
    "# 1.3 File structure and content\n",
    "\n",
    "Let’s have an overview of the data:\n",
    "\n",
    "- Number of rows\n",
    "- Number of columns\n",
    "- Dimension of the data\n",
    "- Size of the data\n",
    "- Shape of data\n",
    "- Columns name\n",
    "- Index range\n",
    "- Data type of columns"
   ]
  },
  {
   "cell_type": "code",
   "execution_count": 7,
   "metadata": {},
   "outputs": [
    {
     "name": "stdout",
     "output_type": "stream",
     "text": [
      "Number of rows: 450627\n",
      "Number of columns: 20\n",
      "Size of the data: 9012540\n",
      "Dimension of the data: 2\n"
     ]
    }
   ],
   "source": [
    "print('Number of rows:', data.shape[0])\n",
    "print('Number of columns:',data.shape[1])\n",
    "print('Size of the data:',data.size)\n",
    "print('Dimension of the data:',data.ndim)"
   ]
  },
  {
   "cell_type": "code",
   "execution_count": 8,
   "metadata": {},
   "outputs": [
    {
     "name": "stdout",
     "output_type": "stream",
     "text": [
      "Shape of the data: (450627, 20)\n"
     ]
    }
   ],
   "source": [
    "print('Shape of the data:',data.shape)"
   ]
  },
  {
   "cell_type": "code",
   "execution_count": 9,
   "metadata": {},
   "outputs": [
    {
     "name": "stdout",
     "output_type": "stream",
     "text": [
      "<class 'pandas.core.frame.DataFrame'>\n",
      "RangeIndex: 450627 entries, 0 to 450626\n",
      "Data columns (total 20 columns):\n",
      "VendorID                 359902 non-null float64\n",
      "lpep_pickup_datetime     450627 non-null object\n",
      "lpep_dropoff_datetime    450627 non-null object\n",
      "store_and_fwd_flag       359902 non-null object\n",
      "RatecodeID               359902 non-null float64\n",
      "PULocationID             450627 non-null int64\n",
      "DOLocationID             450627 non-null int64\n",
      "passenger_count          359902 non-null float64\n",
      "trip_distance            450627 non-null float64\n",
      "fare_amount              450627 non-null float64\n",
      "extra                    450627 non-null float64\n",
      "mta_tax                  450627 non-null float64\n",
      "tip_amount               450627 non-null float64\n",
      "tolls_amount             450627 non-null float64\n",
      "ehail_fee                0 non-null float64\n",
      "improvement_surcharge    450625 non-null float64\n",
      "total_amount             450627 non-null float64\n",
      "payment_type             359902 non-null float64\n",
      "trip_type                359900 non-null float64\n",
      "congestion_surcharge     359900 non-null float64\n",
      "dtypes: float64(15), int64(2), object(3)\n",
      "memory usage: 68.8+ MB\n"
     ]
    }
   ],
   "source": [
    "data.info()"
   ]
  },
  {
   "cell_type": "markdown",
   "metadata": {},
   "source": [
    "we can conclude that:  \n",
    "\n",
    "- In this data, there are 450627 rows and 20 columns.\n",
    "- In this data, the fields or columns contain 15 float data type column, 2 integer data type comun, and 3 object data type column.\n",
    "- We can also see some NaN values in the data. "
   ]
  },
  {
   "cell_type": "markdown",
   "metadata": {},
   "source": [
    "# 1.4 File Structure and Content"
   ]
  },
  {
   "cell_type": "code",
   "execution_count": 10,
   "metadata": {},
   "outputs": [
    {
     "data": {
      "text/html": [
       "<div>\n",
       "<style scoped>\n",
       "    .dataframe tbody tr th:only-of-type {\n",
       "        vertical-align: middle;\n",
       "    }\n",
       "\n",
       "    .dataframe tbody tr th {\n",
       "        vertical-align: top;\n",
       "    }\n",
       "\n",
       "    .dataframe thead th {\n",
       "        text-align: right;\n",
       "    }\n",
       "</style>\n",
       "<table border=\"1\" class=\"dataframe\">\n",
       "  <thead>\n",
       "    <tr style=\"text-align: right;\">\n",
       "      <th></th>\n",
       "      <th>VendorID</th>\n",
       "      <th>RatecodeID</th>\n",
       "      <th>PULocationID</th>\n",
       "      <th>DOLocationID</th>\n",
       "      <th>passenger_count</th>\n",
       "      <th>trip_distance</th>\n",
       "      <th>fare_amount</th>\n",
       "      <th>extra</th>\n",
       "      <th>mta_tax</th>\n",
       "      <th>tip_amount</th>\n",
       "      <th>tolls_amount</th>\n",
       "      <th>ehail_fee</th>\n",
       "      <th>improvement_surcharge</th>\n",
       "      <th>total_amount</th>\n",
       "      <th>payment_type</th>\n",
       "      <th>trip_type</th>\n",
       "      <th>congestion_surcharge</th>\n",
       "    </tr>\n",
       "  </thead>\n",
       "  <tbody>\n",
       "    <tr>\n",
       "      <th>count</th>\n",
       "      <td>359902.000000</td>\n",
       "      <td>359902.000000</td>\n",
       "      <td>450627.000000</td>\n",
       "      <td>450627.000000</td>\n",
       "      <td>359902.000000</td>\n",
       "      <td>450627.000000</td>\n",
       "      <td>450627.000000</td>\n",
       "      <td>450627.000000</td>\n",
       "      <td>450627.000000</td>\n",
       "      <td>450627.000000</td>\n",
       "      <td>450627.000000</td>\n",
       "      <td>0.0</td>\n",
       "      <td>450625.000000</td>\n",
       "      <td>450627.000000</td>\n",
       "      <td>359902.000000</td>\n",
       "      <td>359900.000000</td>\n",
       "      <td>359900.000000</td>\n",
       "    </tr>\n",
       "    <tr>\n",
       "      <th>mean</th>\n",
       "      <td>1.833449</td>\n",
       "      <td>1.102836</td>\n",
       "      <td>107.480599</td>\n",
       "      <td>128.446118</td>\n",
       "      <td>1.311582</td>\n",
       "      <td>3.445025</td>\n",
       "      <td>15.586714</td>\n",
       "      <td>0.888232</td>\n",
       "      <td>0.439677</td>\n",
       "      <td>0.949459</td>\n",
       "      <td>0.289563</td>\n",
       "      <td>NaN</td>\n",
       "      <td>0.270599</td>\n",
       "      <td>18.736671</td>\n",
       "      <td>1.477002</td>\n",
       "      <td>1.023226</td>\n",
       "      <td>0.426469</td>\n",
       "    </tr>\n",
       "    <tr>\n",
       "      <th>std</th>\n",
       "      <td>0.372575</td>\n",
       "      <td>0.623131</td>\n",
       "      <td>70.625075</td>\n",
       "      <td>76.086904</td>\n",
       "      <td>0.968107</td>\n",
       "      <td>117.057614</td>\n",
       "      <td>12.915723</td>\n",
       "      <td>1.166764</td>\n",
       "      <td>0.166541</td>\n",
       "      <td>2.182414</td>\n",
       "      <td>1.369154</td>\n",
       "      <td>NaN</td>\n",
       "      <td>0.091492</td>\n",
       "      <td>14.405428</td>\n",
       "      <td>0.521520</td>\n",
       "      <td>0.150620</td>\n",
       "      <td>0.995450</td>\n",
       "    </tr>\n",
       "    <tr>\n",
       "      <th>min</th>\n",
       "      <td>1.000000</td>\n",
       "      <td>1.000000</td>\n",
       "      <td>1.000000</td>\n",
       "      <td>1.000000</td>\n",
       "      <td>0.000000</td>\n",
       "      <td>-9436.330000</td>\n",
       "      <td>-200.000000</td>\n",
       "      <td>-4.500000</td>\n",
       "      <td>-0.500000</td>\n",
       "      <td>-90.500000</td>\n",
       "      <td>0.000000</td>\n",
       "      <td>NaN</td>\n",
       "      <td>-0.300000</td>\n",
       "      <td>-200.000000</td>\n",
       "      <td>1.000000</td>\n",
       "      <td>1.000000</td>\n",
       "      <td>-2.750000</td>\n",
       "    </tr>\n",
       "    <tr>\n",
       "      <th>25%</th>\n",
       "      <td>2.000000</td>\n",
       "      <td>1.000000</td>\n",
       "      <td>52.000000</td>\n",
       "      <td>64.000000</td>\n",
       "      <td>1.000000</td>\n",
       "      <td>1.040000</td>\n",
       "      <td>7.000000</td>\n",
       "      <td>0.000000</td>\n",
       "      <td>0.500000</td>\n",
       "      <td>0.000000</td>\n",
       "      <td>0.000000</td>\n",
       "      <td>NaN</td>\n",
       "      <td>0.300000</td>\n",
       "      <td>8.800000</td>\n",
       "      <td>1.000000</td>\n",
       "      <td>1.000000</td>\n",
       "      <td>0.000000</td>\n",
       "    </tr>\n",
       "    <tr>\n",
       "      <th>50%</th>\n",
       "      <td>2.000000</td>\n",
       "      <td>1.000000</td>\n",
       "      <td>82.000000</td>\n",
       "      <td>129.000000</td>\n",
       "      <td>1.000000</td>\n",
       "      <td>1.940000</td>\n",
       "      <td>11.000000</td>\n",
       "      <td>0.500000</td>\n",
       "      <td>0.500000</td>\n",
       "      <td>0.000000</td>\n",
       "      <td>0.000000</td>\n",
       "      <td>NaN</td>\n",
       "      <td>0.300000</td>\n",
       "      <td>14.150000</td>\n",
       "      <td>1.000000</td>\n",
       "      <td>1.000000</td>\n",
       "      <td>0.000000</td>\n",
       "    </tr>\n",
       "    <tr>\n",
       "      <th>75%</th>\n",
       "      <td>2.000000</td>\n",
       "      <td>1.000000</td>\n",
       "      <td>166.000000</td>\n",
       "      <td>192.000000</td>\n",
       "      <td>1.000000</td>\n",
       "      <td>4.000000</td>\n",
       "      <td>20.500000</td>\n",
       "      <td>1.000000</td>\n",
       "      <td>0.500000</td>\n",
       "      <td>1.560000</td>\n",
       "      <td>0.000000</td>\n",
       "      <td>NaN</td>\n",
       "      <td>0.300000</td>\n",
       "      <td>24.420000</td>\n",
       "      <td>2.000000</td>\n",
       "      <td>1.000000</td>\n",
       "      <td>0.000000</td>\n",
       "    </tr>\n",
       "    <tr>\n",
       "      <th>max</th>\n",
       "      <td>2.000000</td>\n",
       "      <td>6.000000</td>\n",
       "      <td>265.000000</td>\n",
       "      <td>265.000000</td>\n",
       "      <td>9.000000</td>\n",
       "      <td>77843.760000</td>\n",
       "      <td>500.000000</td>\n",
       "      <td>8.250000</td>\n",
       "      <td>3.550000</td>\n",
       "      <td>441.000000</td>\n",
       "      <td>48.000000</td>\n",
       "      <td>NaN</td>\n",
       "      <td>0.300000</td>\n",
       "      <td>500.300000</td>\n",
       "      <td>5.000000</td>\n",
       "      <td>2.000000</td>\n",
       "      <td>2.750000</td>\n",
       "    </tr>\n",
       "  </tbody>\n",
       "</table>\n",
       "</div>"
      ],
      "text/plain": [
       "            VendorID     RatecodeID   PULocationID   DOLocationID  \\\n",
       "count  359902.000000  359902.000000  450627.000000  450627.000000   \n",
       "mean        1.833449       1.102836     107.480599     128.446118   \n",
       "std         0.372575       0.623131      70.625075      76.086904   \n",
       "min         1.000000       1.000000       1.000000       1.000000   \n",
       "25%         2.000000       1.000000      52.000000      64.000000   \n",
       "50%         2.000000       1.000000      82.000000     129.000000   \n",
       "75%         2.000000       1.000000     166.000000     192.000000   \n",
       "max         2.000000       6.000000     265.000000     265.000000   \n",
       "\n",
       "       passenger_count  trip_distance    fare_amount          extra  \\\n",
       "count    359902.000000  450627.000000  450627.000000  450627.000000   \n",
       "mean          1.311582       3.445025      15.586714       0.888232   \n",
       "std           0.968107     117.057614      12.915723       1.166764   \n",
       "min           0.000000   -9436.330000    -200.000000      -4.500000   \n",
       "25%           1.000000       1.040000       7.000000       0.000000   \n",
       "50%           1.000000       1.940000      11.000000       0.500000   \n",
       "75%           1.000000       4.000000      20.500000       1.000000   \n",
       "max           9.000000   77843.760000     500.000000       8.250000   \n",
       "\n",
       "             mta_tax     tip_amount   tolls_amount  ehail_fee  \\\n",
       "count  450627.000000  450627.000000  450627.000000        0.0   \n",
       "mean        0.439677       0.949459       0.289563        NaN   \n",
       "std         0.166541       2.182414       1.369154        NaN   \n",
       "min        -0.500000     -90.500000       0.000000        NaN   \n",
       "25%         0.500000       0.000000       0.000000        NaN   \n",
       "50%         0.500000       0.000000       0.000000        NaN   \n",
       "75%         0.500000       1.560000       0.000000        NaN   \n",
       "max         3.550000     441.000000      48.000000        NaN   \n",
       "\n",
       "       improvement_surcharge   total_amount   payment_type      trip_type  \\\n",
       "count          450625.000000  450627.000000  359902.000000  359900.000000   \n",
       "mean                0.270599      18.736671       1.477002       1.023226   \n",
       "std                 0.091492      14.405428       0.521520       0.150620   \n",
       "min                -0.300000    -200.000000       1.000000       1.000000   \n",
       "25%                 0.300000       8.800000       1.000000       1.000000   \n",
       "50%                 0.300000      14.150000       1.000000       1.000000   \n",
       "75%                 0.300000      24.420000       2.000000       1.000000   \n",
       "max                 0.300000     500.300000       5.000000       2.000000   \n",
       "\n",
       "       congestion_surcharge  \n",
       "count         359900.000000  \n",
       "mean               0.426469  \n",
       "std                0.995450  \n",
       "min               -2.750000  \n",
       "25%                0.000000  \n",
       "50%                0.000000  \n",
       "75%                0.000000  \n",
       "max                2.750000  "
      ]
     },
     "execution_count": 10,
     "metadata": {},
     "output_type": "execute_result"
    }
   ],
   "source": [
    "data.describe()"
   ]
  },
  {
   "cell_type": "code",
   "execution_count": 11,
   "metadata": {},
   "outputs": [
    {
     "data": {
      "text/html": [
       "<div>\n",
       "<style scoped>\n",
       "    .dataframe tbody tr th:only-of-type {\n",
       "        vertical-align: middle;\n",
       "    }\n",
       "\n",
       "    .dataframe tbody tr th {\n",
       "        vertical-align: top;\n",
       "    }\n",
       "\n",
       "    .dataframe thead th {\n",
       "        text-align: right;\n",
       "    }\n",
       "</style>\n",
       "<table border=\"1\" class=\"dataframe\">\n",
       "  <thead>\n",
       "    <tr style=\"text-align: right;\">\n",
       "      <th></th>\n",
       "      <th>VendorID</th>\n",
       "      <th>lpep_pickup_datetime</th>\n",
       "      <th>lpep_dropoff_datetime</th>\n",
       "      <th>store_and_fwd_flag</th>\n",
       "      <th>RatecodeID</th>\n",
       "      <th>PULocationID</th>\n",
       "      <th>DOLocationID</th>\n",
       "      <th>passenger_count</th>\n",
       "      <th>trip_distance</th>\n",
       "      <th>fare_amount</th>\n",
       "      <th>extra</th>\n",
       "      <th>mta_tax</th>\n",
       "      <th>tip_amount</th>\n",
       "      <th>tolls_amount</th>\n",
       "      <th>ehail_fee</th>\n",
       "      <th>improvement_surcharge</th>\n",
       "      <th>total_amount</th>\n",
       "      <th>payment_type</th>\n",
       "      <th>trip_type</th>\n",
       "      <th>congestion_surcharge</th>\n",
       "    </tr>\n",
       "  </thead>\n",
       "  <tbody>\n",
       "    <tr>\n",
       "      <th>0</th>\n",
       "      <td>1.0</td>\n",
       "      <td>12/1/2019 0:09</td>\n",
       "      <td>12/1/2019 0:10</td>\n",
       "      <td>N</td>\n",
       "      <td>1.0</td>\n",
       "      <td>145</td>\n",
       "      <td>145</td>\n",
       "      <td>1.0</td>\n",
       "      <td>0.00</td>\n",
       "      <td>3.0</td>\n",
       "      <td>0.5</td>\n",
       "      <td>0.5</td>\n",
       "      <td>0.00</td>\n",
       "      <td>0.0</td>\n",
       "      <td>NaN</td>\n",
       "      <td>0.3</td>\n",
       "      <td>4.30</td>\n",
       "      <td>2.0</td>\n",
       "      <td>1.0</td>\n",
       "      <td>0.0</td>\n",
       "    </tr>\n",
       "    <tr>\n",
       "      <th>1</th>\n",
       "      <td>2.0</td>\n",
       "      <td>12/1/2019 0:26</td>\n",
       "      <td>12/1/2019 0:31</td>\n",
       "      <td>N</td>\n",
       "      <td>1.0</td>\n",
       "      <td>24</td>\n",
       "      <td>41</td>\n",
       "      <td>1.0</td>\n",
       "      <td>0.67</td>\n",
       "      <td>5.5</td>\n",
       "      <td>0.5</td>\n",
       "      <td>0.5</td>\n",
       "      <td>2.04</td>\n",
       "      <td>0.0</td>\n",
       "      <td>NaN</td>\n",
       "      <td>0.3</td>\n",
       "      <td>8.84</td>\n",
       "      <td>1.0</td>\n",
       "      <td>1.0</td>\n",
       "      <td>0.0</td>\n",
       "    </tr>\n",
       "    <tr>\n",
       "      <th>2</th>\n",
       "      <td>2.0</td>\n",
       "      <td>12/1/2019 0:56</td>\n",
       "      <td>12/1/2019 0:59</td>\n",
       "      <td>N</td>\n",
       "      <td>1.0</td>\n",
       "      <td>74</td>\n",
       "      <td>41</td>\n",
       "      <td>1.0</td>\n",
       "      <td>0.61</td>\n",
       "      <td>4.5</td>\n",
       "      <td>0.5</td>\n",
       "      <td>0.5</td>\n",
       "      <td>0.00</td>\n",
       "      <td>0.0</td>\n",
       "      <td>NaN</td>\n",
       "      <td>0.3</td>\n",
       "      <td>5.80</td>\n",
       "      <td>2.0</td>\n",
       "      <td>1.0</td>\n",
       "      <td>0.0</td>\n",
       "    </tr>\n",
       "    <tr>\n",
       "      <th>3</th>\n",
       "      <td>2.0</td>\n",
       "      <td>12/1/2019 0:26</td>\n",
       "      <td>12/1/2019 0:40</td>\n",
       "      <td>N</td>\n",
       "      <td>1.0</td>\n",
       "      <td>255</td>\n",
       "      <td>157</td>\n",
       "      <td>1.0</td>\n",
       "      <td>3.90</td>\n",
       "      <td>14.0</td>\n",
       "      <td>0.5</td>\n",
       "      <td>0.5</td>\n",
       "      <td>0.00</td>\n",
       "      <td>0.0</td>\n",
       "      <td>NaN</td>\n",
       "      <td>0.3</td>\n",
       "      <td>15.30</td>\n",
       "      <td>2.0</td>\n",
       "      <td>1.0</td>\n",
       "      <td>0.0</td>\n",
       "    </tr>\n",
       "    <tr>\n",
       "      <th>4</th>\n",
       "      <td>2.0</td>\n",
       "      <td>12/1/2019 0:56</td>\n",
       "      <td>12/1/2019 0:59</td>\n",
       "      <td>N</td>\n",
       "      <td>1.0</td>\n",
       "      <td>80</td>\n",
       "      <td>255</td>\n",
       "      <td>1.0</td>\n",
       "      <td>0.50</td>\n",
       "      <td>4.5</td>\n",
       "      <td>0.5</td>\n",
       "      <td>0.5</td>\n",
       "      <td>0.00</td>\n",
       "      <td>0.0</td>\n",
       "      <td>NaN</td>\n",
       "      <td>0.3</td>\n",
       "      <td>5.80</td>\n",
       "      <td>2.0</td>\n",
       "      <td>1.0</td>\n",
       "      <td>0.0</td>\n",
       "    </tr>\n",
       "  </tbody>\n",
       "</table>\n",
       "</div>"
      ],
      "text/plain": [
       "   VendorID lpep_pickup_datetime lpep_dropoff_datetime store_and_fwd_flag  \\\n",
       "0       1.0       12/1/2019 0:09        12/1/2019 0:10                  N   \n",
       "1       2.0       12/1/2019 0:26        12/1/2019 0:31                  N   \n",
       "2       2.0       12/1/2019 0:56        12/1/2019 0:59                  N   \n",
       "3       2.0       12/1/2019 0:26        12/1/2019 0:40                  N   \n",
       "4       2.0       12/1/2019 0:56        12/1/2019 0:59                  N   \n",
       "\n",
       "   RatecodeID  PULocationID  DOLocationID  passenger_count  trip_distance  \\\n",
       "0         1.0           145           145              1.0           0.00   \n",
       "1         1.0            24            41              1.0           0.67   \n",
       "2         1.0            74            41              1.0           0.61   \n",
       "3         1.0           255           157              1.0           3.90   \n",
       "4         1.0            80           255              1.0           0.50   \n",
       "\n",
       "   fare_amount  extra  mta_tax  tip_amount  tolls_amount  ehail_fee  \\\n",
       "0          3.0    0.5      0.5        0.00           0.0        NaN   \n",
       "1          5.5    0.5      0.5        2.04           0.0        NaN   \n",
       "2          4.5    0.5      0.5        0.00           0.0        NaN   \n",
       "3         14.0    0.5      0.5        0.00           0.0        NaN   \n",
       "4          4.5    0.5      0.5        0.00           0.0        NaN   \n",
       "\n",
       "   improvement_surcharge  total_amount  payment_type  trip_type  \\\n",
       "0                    0.3          4.30           2.0        1.0   \n",
       "1                    0.3          8.84           1.0        1.0   \n",
       "2                    0.3          5.80           2.0        1.0   \n",
       "3                    0.3         15.30           2.0        1.0   \n",
       "4                    0.3          5.80           2.0        1.0   \n",
       "\n",
       "   congestion_surcharge  \n",
       "0                   0.0  \n",
       "1                   0.0  \n",
       "2                   0.0  \n",
       "3                   0.0  \n",
       "4                   0.0  "
      ]
     },
     "execution_count": 11,
     "metadata": {},
     "output_type": "execute_result"
    }
   ],
   "source": [
    "data.head()"
   ]
  },
  {
   "cell_type": "code",
   "execution_count": 12,
   "metadata": {},
   "outputs": [
    {
     "data": {
      "text/html": [
       "<div>\n",
       "<style scoped>\n",
       "    .dataframe tbody tr th:only-of-type {\n",
       "        vertical-align: middle;\n",
       "    }\n",
       "\n",
       "    .dataframe tbody tr th {\n",
       "        vertical-align: top;\n",
       "    }\n",
       "\n",
       "    .dataframe thead th {\n",
       "        text-align: right;\n",
       "    }\n",
       "</style>\n",
       "<table border=\"1\" class=\"dataframe\">\n",
       "  <thead>\n",
       "    <tr style=\"text-align: right;\">\n",
       "      <th></th>\n",
       "      <th>VendorID</th>\n",
       "      <th>lpep_pickup_datetime</th>\n",
       "      <th>lpep_dropoff_datetime</th>\n",
       "      <th>store_and_fwd_flag</th>\n",
       "      <th>RatecodeID</th>\n",
       "      <th>PULocationID</th>\n",
       "      <th>DOLocationID</th>\n",
       "      <th>passenger_count</th>\n",
       "      <th>trip_distance</th>\n",
       "      <th>fare_amount</th>\n",
       "      <th>extra</th>\n",
       "      <th>mta_tax</th>\n",
       "      <th>tip_amount</th>\n",
       "      <th>tolls_amount</th>\n",
       "      <th>ehail_fee</th>\n",
       "      <th>improvement_surcharge</th>\n",
       "      <th>total_amount</th>\n",
       "      <th>payment_type</th>\n",
       "      <th>trip_type</th>\n",
       "      <th>congestion_surcharge</th>\n",
       "    </tr>\n",
       "  </thead>\n",
       "  <tbody>\n",
       "    <tr>\n",
       "      <th>353049</th>\n",
       "      <td>2.0</td>\n",
       "      <td>12/31/2019 15:16</td>\n",
       "      <td>12/31/2019 15:19</td>\n",
       "      <td>N</td>\n",
       "      <td>1.0</td>\n",
       "      <td>41</td>\n",
       "      <td>41</td>\n",
       "      <td>1.0</td>\n",
       "      <td>0.51</td>\n",
       "      <td>4.50</td>\n",
       "      <td>0.00</td>\n",
       "      <td>0.5</td>\n",
       "      <td>0.00</td>\n",
       "      <td>0.00</td>\n",
       "      <td>NaN</td>\n",
       "      <td>0.3</td>\n",
       "      <td>5.30</td>\n",
       "      <td>2.0</td>\n",
       "      <td>1.0</td>\n",
       "      <td>0.00</td>\n",
       "    </tr>\n",
       "    <tr>\n",
       "      <th>225760</th>\n",
       "      <td>2.0</td>\n",
       "      <td>12/19/2019 11:13</td>\n",
       "      <td>12/19/2019 11:28</td>\n",
       "      <td>N</td>\n",
       "      <td>1.0</td>\n",
       "      <td>74</td>\n",
       "      <td>75</td>\n",
       "      <td>1.0</td>\n",
       "      <td>1.81</td>\n",
       "      <td>10.50</td>\n",
       "      <td>0.00</td>\n",
       "      <td>0.5</td>\n",
       "      <td>2.26</td>\n",
       "      <td>0.00</td>\n",
       "      <td>NaN</td>\n",
       "      <td>0.3</td>\n",
       "      <td>13.56</td>\n",
       "      <td>1.0</td>\n",
       "      <td>1.0</td>\n",
       "      <td>0.00</td>\n",
       "    </tr>\n",
       "    <tr>\n",
       "      <th>214876</th>\n",
       "      <td>2.0</td>\n",
       "      <td>12/18/2019 14:12</td>\n",
       "      <td>12/18/2019 14:17</td>\n",
       "      <td>N</td>\n",
       "      <td>1.0</td>\n",
       "      <td>260</td>\n",
       "      <td>129</td>\n",
       "      <td>1.0</td>\n",
       "      <td>0.93</td>\n",
       "      <td>5.50</td>\n",
       "      <td>0.00</td>\n",
       "      <td>0.5</td>\n",
       "      <td>1.89</td>\n",
       "      <td>0.00</td>\n",
       "      <td>NaN</td>\n",
       "      <td>0.3</td>\n",
       "      <td>8.19</td>\n",
       "      <td>1.0</td>\n",
       "      <td>1.0</td>\n",
       "      <td>0.00</td>\n",
       "    </tr>\n",
       "    <tr>\n",
       "      <th>298035</th>\n",
       "      <td>2.0</td>\n",
       "      <td>12/25/2019 20:00</td>\n",
       "      <td>12/25/2019 20:08</td>\n",
       "      <td>N</td>\n",
       "      <td>1.0</td>\n",
       "      <td>74</td>\n",
       "      <td>75</td>\n",
       "      <td>1.0</td>\n",
       "      <td>1.55</td>\n",
       "      <td>7.50</td>\n",
       "      <td>0.00</td>\n",
       "      <td>0.5</td>\n",
       "      <td>1.00</td>\n",
       "      <td>0.00</td>\n",
       "      <td>NaN</td>\n",
       "      <td>0.3</td>\n",
       "      <td>9.30</td>\n",
       "      <td>1.0</td>\n",
       "      <td>1.0</td>\n",
       "      <td>0.00</td>\n",
       "    </tr>\n",
       "    <tr>\n",
       "      <th>80298</th>\n",
       "      <td>2.0</td>\n",
       "      <td>12/7/2019 17:57</td>\n",
       "      <td>12/7/2019 18:26</td>\n",
       "      <td>N</td>\n",
       "      <td>1.0</td>\n",
       "      <td>75</td>\n",
       "      <td>138</td>\n",
       "      <td>1.0</td>\n",
       "      <td>6.88</td>\n",
       "      <td>25.00</td>\n",
       "      <td>0.00</td>\n",
       "      <td>0.5</td>\n",
       "      <td>6.38</td>\n",
       "      <td>6.12</td>\n",
       "      <td>NaN</td>\n",
       "      <td>0.3</td>\n",
       "      <td>38.30</td>\n",
       "      <td>1.0</td>\n",
       "      <td>1.0</td>\n",
       "      <td>0.00</td>\n",
       "    </tr>\n",
       "    <tr>\n",
       "      <th>142370</th>\n",
       "      <td>2.0</td>\n",
       "      <td>12/12/2019 19:31</td>\n",
       "      <td>12/12/2019 19:31</td>\n",
       "      <td>N</td>\n",
       "      <td>1.0</td>\n",
       "      <td>82</td>\n",
       "      <td>82</td>\n",
       "      <td>1.0</td>\n",
       "      <td>0.00</td>\n",
       "      <td>2.50</td>\n",
       "      <td>1.00</td>\n",
       "      <td>0.5</td>\n",
       "      <td>0.00</td>\n",
       "      <td>0.00</td>\n",
       "      <td>NaN</td>\n",
       "      <td>0.3</td>\n",
       "      <td>4.30</td>\n",
       "      <td>2.0</td>\n",
       "      <td>1.0</td>\n",
       "      <td>0.00</td>\n",
       "    </tr>\n",
       "    <tr>\n",
       "      <th>441165</th>\n",
       "      <td>NaN</td>\n",
       "      <td>12/27/2019 15:44</td>\n",
       "      <td>12/27/2019 17:03</td>\n",
       "      <td>NaN</td>\n",
       "      <td>NaN</td>\n",
       "      <td>72</td>\n",
       "      <td>74</td>\n",
       "      <td>NaN</td>\n",
       "      <td>16.38</td>\n",
       "      <td>37.60</td>\n",
       "      <td>2.75</td>\n",
       "      <td>0.0</td>\n",
       "      <td>0.00</td>\n",
       "      <td>8.92</td>\n",
       "      <td>NaN</td>\n",
       "      <td>0.3</td>\n",
       "      <td>49.57</td>\n",
       "      <td>NaN</td>\n",
       "      <td>NaN</td>\n",
       "      <td>NaN</td>\n",
       "    </tr>\n",
       "    <tr>\n",
       "      <th>362433</th>\n",
       "      <td>NaN</td>\n",
       "      <td>12/2/2019 10:33</td>\n",
       "      <td>12/2/2019 11:00</td>\n",
       "      <td>NaN</td>\n",
       "      <td>NaN</td>\n",
       "      <td>72</td>\n",
       "      <td>181</td>\n",
       "      <td>NaN</td>\n",
       "      <td>4.86</td>\n",
       "      <td>21.44</td>\n",
       "      <td>2.75</td>\n",
       "      <td>0.5</td>\n",
       "      <td>0.00</td>\n",
       "      <td>0.00</td>\n",
       "      <td>NaN</td>\n",
       "      <td>0.0</td>\n",
       "      <td>24.69</td>\n",
       "      <td>NaN</td>\n",
       "      <td>NaN</td>\n",
       "      <td>NaN</td>\n",
       "    </tr>\n",
       "    <tr>\n",
       "      <th>418062</th>\n",
       "      <td>NaN</td>\n",
       "      <td>12/18/2019 14:03</td>\n",
       "      <td>12/18/2019 14:29</td>\n",
       "      <td>NaN</td>\n",
       "      <td>NaN</td>\n",
       "      <td>69</td>\n",
       "      <td>185</td>\n",
       "      <td>NaN</td>\n",
       "      <td>6.83</td>\n",
       "      <td>27.27</td>\n",
       "      <td>2.75</td>\n",
       "      <td>0.0</td>\n",
       "      <td>0.00</td>\n",
       "      <td>0.00</td>\n",
       "      <td>NaN</td>\n",
       "      <td>0.3</td>\n",
       "      <td>30.32</td>\n",
       "      <td>NaN</td>\n",
       "      <td>NaN</td>\n",
       "      <td>NaN</td>\n",
       "    </tr>\n",
       "    <tr>\n",
       "      <th>44870</th>\n",
       "      <td>2.0</td>\n",
       "      <td>12/4/2019 23:46</td>\n",
       "      <td>12/5/2019 0:08</td>\n",
       "      <td>N</td>\n",
       "      <td>1.0</td>\n",
       "      <td>226</td>\n",
       "      <td>79</td>\n",
       "      <td>1.0</td>\n",
       "      <td>5.67</td>\n",
       "      <td>20.50</td>\n",
       "      <td>0.50</td>\n",
       "      <td>0.5</td>\n",
       "      <td>0.00</td>\n",
       "      <td>0.00</td>\n",
       "      <td>NaN</td>\n",
       "      <td>0.3</td>\n",
       "      <td>24.55</td>\n",
       "      <td>2.0</td>\n",
       "      <td>1.0</td>\n",
       "      <td>2.75</td>\n",
       "    </tr>\n",
       "  </tbody>\n",
       "</table>\n",
       "</div>"
      ],
      "text/plain": [
       "        VendorID lpep_pickup_datetime lpep_dropoff_datetime  \\\n",
       "353049       2.0     12/31/2019 15:16      12/31/2019 15:19   \n",
       "225760       2.0     12/19/2019 11:13      12/19/2019 11:28   \n",
       "214876       2.0     12/18/2019 14:12      12/18/2019 14:17   \n",
       "298035       2.0     12/25/2019 20:00      12/25/2019 20:08   \n",
       "80298        2.0      12/7/2019 17:57       12/7/2019 18:26   \n",
       "142370       2.0     12/12/2019 19:31      12/12/2019 19:31   \n",
       "441165       NaN     12/27/2019 15:44      12/27/2019 17:03   \n",
       "362433       NaN      12/2/2019 10:33       12/2/2019 11:00   \n",
       "418062       NaN     12/18/2019 14:03      12/18/2019 14:29   \n",
       "44870        2.0      12/4/2019 23:46        12/5/2019 0:08   \n",
       "\n",
       "       store_and_fwd_flag  RatecodeID  PULocationID  DOLocationID  \\\n",
       "353049                  N         1.0            41            41   \n",
       "225760                  N         1.0            74            75   \n",
       "214876                  N         1.0           260           129   \n",
       "298035                  N         1.0            74            75   \n",
       "80298                   N         1.0            75           138   \n",
       "142370                  N         1.0            82            82   \n",
       "441165                NaN         NaN            72            74   \n",
       "362433                NaN         NaN            72           181   \n",
       "418062                NaN         NaN            69           185   \n",
       "44870                   N         1.0           226            79   \n",
       "\n",
       "        passenger_count  trip_distance  fare_amount  extra  mta_tax  \\\n",
       "353049              1.0           0.51         4.50   0.00      0.5   \n",
       "225760              1.0           1.81        10.50   0.00      0.5   \n",
       "214876              1.0           0.93         5.50   0.00      0.5   \n",
       "298035              1.0           1.55         7.50   0.00      0.5   \n",
       "80298               1.0           6.88        25.00   0.00      0.5   \n",
       "142370              1.0           0.00         2.50   1.00      0.5   \n",
       "441165              NaN          16.38        37.60   2.75      0.0   \n",
       "362433              NaN           4.86        21.44   2.75      0.5   \n",
       "418062              NaN           6.83        27.27   2.75      0.0   \n",
       "44870               1.0           5.67        20.50   0.50      0.5   \n",
       "\n",
       "        tip_amount  tolls_amount  ehail_fee  improvement_surcharge  \\\n",
       "353049        0.00          0.00        NaN                    0.3   \n",
       "225760        2.26          0.00        NaN                    0.3   \n",
       "214876        1.89          0.00        NaN                    0.3   \n",
       "298035        1.00          0.00        NaN                    0.3   \n",
       "80298         6.38          6.12        NaN                    0.3   \n",
       "142370        0.00          0.00        NaN                    0.3   \n",
       "441165        0.00          8.92        NaN                    0.3   \n",
       "362433        0.00          0.00        NaN                    0.0   \n",
       "418062        0.00          0.00        NaN                    0.3   \n",
       "44870         0.00          0.00        NaN                    0.3   \n",
       "\n",
       "        total_amount  payment_type  trip_type  congestion_surcharge  \n",
       "353049          5.30           2.0        1.0                  0.00  \n",
       "225760         13.56           1.0        1.0                  0.00  \n",
       "214876          8.19           1.0        1.0                  0.00  \n",
       "298035          9.30           1.0        1.0                  0.00  \n",
       "80298          38.30           1.0        1.0                  0.00  \n",
       "142370          4.30           2.0        1.0                  0.00  \n",
       "441165         49.57           NaN        NaN                   NaN  \n",
       "362433         24.69           NaN        NaN                   NaN  \n",
       "418062         30.32           NaN        NaN                   NaN  \n",
       "44870          24.55           2.0        1.0                  2.75  "
      ]
     },
     "execution_count": 12,
     "metadata": {},
     "output_type": "execute_result"
    }
   ],
   "source": [
    "data.sample(10)"
   ]
  },
  {
   "cell_type": "code",
   "execution_count": 13,
   "metadata": {},
   "outputs": [
    {
     "data": {
      "text/html": [
       "<div>\n",
       "<style scoped>\n",
       "    .dataframe tbody tr th:only-of-type {\n",
       "        vertical-align: middle;\n",
       "    }\n",
       "\n",
       "    .dataframe tbody tr th {\n",
       "        vertical-align: top;\n",
       "    }\n",
       "\n",
       "    .dataframe thead th {\n",
       "        text-align: right;\n",
       "    }\n",
       "</style>\n",
       "<table border=\"1\" class=\"dataframe\">\n",
       "  <thead>\n",
       "    <tr style=\"text-align: right;\">\n",
       "      <th></th>\n",
       "      <th>VendorID</th>\n",
       "      <th>lpep_pickup_datetime</th>\n",
       "      <th>lpep_dropoff_datetime</th>\n",
       "      <th>store_and_fwd_flag</th>\n",
       "      <th>RatecodeID</th>\n",
       "      <th>PULocationID</th>\n",
       "      <th>DOLocationID</th>\n",
       "      <th>passenger_count</th>\n",
       "      <th>trip_distance</th>\n",
       "      <th>fare_amount</th>\n",
       "      <th>extra</th>\n",
       "      <th>mta_tax</th>\n",
       "      <th>tip_amount</th>\n",
       "      <th>tolls_amount</th>\n",
       "      <th>ehail_fee</th>\n",
       "      <th>improvement_surcharge</th>\n",
       "      <th>total_amount</th>\n",
       "      <th>payment_type</th>\n",
       "      <th>trip_type</th>\n",
       "      <th>congestion_surcharge</th>\n",
       "    </tr>\n",
       "  </thead>\n",
       "  <tbody>\n",
       "    <tr>\n",
       "      <th>450622</th>\n",
       "      <td>NaN</td>\n",
       "      <td>12/31/2019 23:26</td>\n",
       "      <td>12/31/2019 23:54</td>\n",
       "      <td>NaN</td>\n",
       "      <td>NaN</td>\n",
       "      <td>35</td>\n",
       "      <td>130</td>\n",
       "      <td>NaN</td>\n",
       "      <td>10.02</td>\n",
       "      <td>48.85</td>\n",
       "      <td>2.75</td>\n",
       "      <td>0.0</td>\n",
       "      <td>0.0</td>\n",
       "      <td>0.0</td>\n",
       "      <td>NaN</td>\n",
       "      <td>0.3</td>\n",
       "      <td>51.90</td>\n",
       "      <td>NaN</td>\n",
       "      <td>NaN</td>\n",
       "      <td>NaN</td>\n",
       "    </tr>\n",
       "    <tr>\n",
       "      <th>450623</th>\n",
       "      <td>NaN</td>\n",
       "      <td>12/31/2019 23:02</td>\n",
       "      <td>12/31/2019 23:16</td>\n",
       "      <td>NaN</td>\n",
       "      <td>NaN</td>\n",
       "      <td>76</td>\n",
       "      <td>61</td>\n",
       "      <td>NaN</td>\n",
       "      <td>2.27</td>\n",
       "      <td>23.31</td>\n",
       "      <td>2.75</td>\n",
       "      <td>0.0</td>\n",
       "      <td>0.0</td>\n",
       "      <td>0.0</td>\n",
       "      <td>NaN</td>\n",
       "      <td>0.3</td>\n",
       "      <td>26.36</td>\n",
       "      <td>NaN</td>\n",
       "      <td>NaN</td>\n",
       "      <td>NaN</td>\n",
       "    </tr>\n",
       "    <tr>\n",
       "      <th>450624</th>\n",
       "      <td>NaN</td>\n",
       "      <td>12/31/2019 23:24</td>\n",
       "      <td>12/31/2019 23:40</td>\n",
       "      <td>NaN</td>\n",
       "      <td>NaN</td>\n",
       "      <td>185</td>\n",
       "      <td>247</td>\n",
       "      <td>NaN</td>\n",
       "      <td>9.35</td>\n",
       "      <td>27.27</td>\n",
       "      <td>2.75</td>\n",
       "      <td>0.0</td>\n",
       "      <td>0.0</td>\n",
       "      <td>0.0</td>\n",
       "      <td>NaN</td>\n",
       "      <td>0.3</td>\n",
       "      <td>30.32</td>\n",
       "      <td>NaN</td>\n",
       "      <td>NaN</td>\n",
       "      <td>NaN</td>\n",
       "    </tr>\n",
       "    <tr>\n",
       "      <th>450625</th>\n",
       "      <td>NaN</td>\n",
       "      <td>12/31/2019 23:16</td>\n",
       "      <td>12/31/2019 23:37</td>\n",
       "      <td>NaN</td>\n",
       "      <td>NaN</td>\n",
       "      <td>51</td>\n",
       "      <td>126</td>\n",
       "      <td>NaN</td>\n",
       "      <td>-7.16</td>\n",
       "      <td>35.95</td>\n",
       "      <td>2.75</td>\n",
       "      <td>0.5</td>\n",
       "      <td>0.0</td>\n",
       "      <td>0.0</td>\n",
       "      <td>NaN</td>\n",
       "      <td>0.3</td>\n",
       "      <td>39.50</td>\n",
       "      <td>NaN</td>\n",
       "      <td>NaN</td>\n",
       "      <td>NaN</td>\n",
       "    </tr>\n",
       "    <tr>\n",
       "      <th>450626</th>\n",
       "      <td>NaN</td>\n",
       "      <td>12/31/2019 23:52</td>\n",
       "      <td>1/1/2020 0:05</td>\n",
       "      <td>NaN</td>\n",
       "      <td>NaN</td>\n",
       "      <td>42</td>\n",
       "      <td>244</td>\n",
       "      <td>NaN</td>\n",
       "      <td>2.43</td>\n",
       "      <td>21.15</td>\n",
       "      <td>2.75</td>\n",
       "      <td>0.5</td>\n",
       "      <td>0.0</td>\n",
       "      <td>0.0</td>\n",
       "      <td>NaN</td>\n",
       "      <td>0.0</td>\n",
       "      <td>24.40</td>\n",
       "      <td>NaN</td>\n",
       "      <td>NaN</td>\n",
       "      <td>NaN</td>\n",
       "    </tr>\n",
       "  </tbody>\n",
       "</table>\n",
       "</div>"
      ],
      "text/plain": [
       "        VendorID lpep_pickup_datetime lpep_dropoff_datetime  \\\n",
       "450622       NaN     12/31/2019 23:26      12/31/2019 23:54   \n",
       "450623       NaN     12/31/2019 23:02      12/31/2019 23:16   \n",
       "450624       NaN     12/31/2019 23:24      12/31/2019 23:40   \n",
       "450625       NaN     12/31/2019 23:16      12/31/2019 23:37   \n",
       "450626       NaN     12/31/2019 23:52         1/1/2020 0:05   \n",
       "\n",
       "       store_and_fwd_flag  RatecodeID  PULocationID  DOLocationID  \\\n",
       "450622                NaN         NaN            35           130   \n",
       "450623                NaN         NaN            76            61   \n",
       "450624                NaN         NaN           185           247   \n",
       "450625                NaN         NaN            51           126   \n",
       "450626                NaN         NaN            42           244   \n",
       "\n",
       "        passenger_count  trip_distance  fare_amount  extra  mta_tax  \\\n",
       "450622              NaN          10.02        48.85   2.75      0.0   \n",
       "450623              NaN           2.27        23.31   2.75      0.0   \n",
       "450624              NaN           9.35        27.27   2.75      0.0   \n",
       "450625              NaN          -7.16        35.95   2.75      0.5   \n",
       "450626              NaN           2.43        21.15   2.75      0.5   \n",
       "\n",
       "        tip_amount  tolls_amount  ehail_fee  improvement_surcharge  \\\n",
       "450622         0.0           0.0        NaN                    0.3   \n",
       "450623         0.0           0.0        NaN                    0.3   \n",
       "450624         0.0           0.0        NaN                    0.3   \n",
       "450625         0.0           0.0        NaN                    0.3   \n",
       "450626         0.0           0.0        NaN                    0.0   \n",
       "\n",
       "        total_amount  payment_type  trip_type  congestion_surcharge  \n",
       "450622         51.90           NaN        NaN                   NaN  \n",
       "450623         26.36           NaN        NaN                   NaN  \n",
       "450624         30.32           NaN        NaN                   NaN  \n",
       "450625         39.50           NaN        NaN                   NaN  \n",
       "450626         24.40           NaN        NaN                   NaN  "
      ]
     },
     "execution_count": 13,
     "metadata": {},
     "output_type": "execute_result"
    }
   ],
   "source": [
    "data.tail()"
   ]
  },
  {
   "cell_type": "markdown",
   "metadata": {},
   "source": [
    "Conclusion\n",
    "\n",
    "- VendorID contain only two values 1.0 and 2.0, it indicate that there are two taxi companies in New York city.\n",
    "- The maximum no. of people in the taxi during the trip was 9.\n",
    "- There are five payment method to pay the amount for the services by customer.\n",
    "- The field store_and_fwd_flag contain only \"N\",\"Y\" and \"NaN\" values. \"N\" indicates that the trip data was sent immediately and \"Y\" indecates that it held in the memory of taxi.\n",
    "- The taxi always available either in day or night.\n",
    "- The data have missing value which is not good for our analysiss of the data."
   ]
  },
  {
   "cell_type": "markdown",
   "metadata": {},
   "source": [
    "# 1.5 Missing values\n",
    "\n",
    "Knowing about missing values is important because they indicate how much we don’t know about our data. Making inferences based on just a few cases is often unwise. In addition, many modelling procedures break down when missing values are involved and the corresponding rows will either have to be removed completely or the values need to be estimated somehow.\n",
    "\n",
    "So, let's check the missing values"
   ]
  },
  {
   "cell_type": "code",
   "execution_count": 14,
   "metadata": {},
   "outputs": [
    {
     "data": {
      "text/plain": [
       "VendorID                  90725\n",
       "lpep_pickup_datetime          0\n",
       "lpep_dropoff_datetime         0\n",
       "store_and_fwd_flag        90725\n",
       "RatecodeID                90725\n",
       "PULocationID                  0\n",
       "DOLocationID                  0\n",
       "passenger_count           90725\n",
       "trip_distance                 0\n",
       "fare_amount                   0\n",
       "extra                         0\n",
       "mta_tax                       0\n",
       "tip_amount                    0\n",
       "tolls_amount                  0\n",
       "ehail_fee                450627\n",
       "improvement_surcharge         2\n",
       "total_amount                  0\n",
       "payment_type              90725\n",
       "trip_type                 90727\n",
       "congestion_surcharge      90727\n",
       "dtype: int64"
      ]
     },
     "execution_count": 14,
     "metadata": {},
     "output_type": "execute_result"
    }
   ],
   "source": [
    "data.isnull().sum()"
   ]
  },
  {
   "cell_type": "markdown",
   "metadata": {},
   "source": [
    "We can see there are many NaN values. \n",
    "\n",
    "- First, we have to remove \"ehail_fee\" column.\n",
    "- Then we have to drop all NaN values."
   ]
  },
  {
   "cell_type": "code",
   "execution_count": 15,
   "metadata": {},
   "outputs": [
    {
     "name": "stdout",
     "output_type": "stream",
     "text": [
      "(450627, 19)\n"
     ]
    }
   ],
   "source": [
    "data = data.drop([\"ehail_fee\"], axis = 1)\n",
    "print(data.shape)"
   ]
  },
  {
   "cell_type": "code",
   "execution_count": 16,
   "metadata": {},
   "outputs": [
    {
     "data": {
      "text/html": [
       "<div>\n",
       "<style scoped>\n",
       "    .dataframe tbody tr th:only-of-type {\n",
       "        vertical-align: middle;\n",
       "    }\n",
       "\n",
       "    .dataframe tbody tr th {\n",
       "        vertical-align: top;\n",
       "    }\n",
       "\n",
       "    .dataframe thead th {\n",
       "        text-align: right;\n",
       "    }\n",
       "</style>\n",
       "<table border=\"1\" class=\"dataframe\">\n",
       "  <thead>\n",
       "    <tr style=\"text-align: right;\">\n",
       "      <th></th>\n",
       "      <th>VendorID</th>\n",
       "      <th>lpep_pickup_datetime</th>\n",
       "      <th>lpep_dropoff_datetime</th>\n",
       "      <th>store_and_fwd_flag</th>\n",
       "      <th>RatecodeID</th>\n",
       "      <th>PULocationID</th>\n",
       "      <th>DOLocationID</th>\n",
       "      <th>passenger_count</th>\n",
       "      <th>trip_distance</th>\n",
       "      <th>fare_amount</th>\n",
       "      <th>extra</th>\n",
       "      <th>mta_tax</th>\n",
       "      <th>tip_amount</th>\n",
       "      <th>tolls_amount</th>\n",
       "      <th>improvement_surcharge</th>\n",
       "      <th>total_amount</th>\n",
       "      <th>payment_type</th>\n",
       "      <th>trip_type</th>\n",
       "      <th>congestion_surcharge</th>\n",
       "    </tr>\n",
       "  </thead>\n",
       "  <tbody>\n",
       "    <tr>\n",
       "      <th>0</th>\n",
       "      <td>1.0</td>\n",
       "      <td>12/1/2019 0:09</td>\n",
       "      <td>12/1/2019 0:10</td>\n",
       "      <td>N</td>\n",
       "      <td>1.0</td>\n",
       "      <td>145</td>\n",
       "      <td>145</td>\n",
       "      <td>1.0</td>\n",
       "      <td>0.00</td>\n",
       "      <td>3.0</td>\n",
       "      <td>0.5</td>\n",
       "      <td>0.5</td>\n",
       "      <td>0.00</td>\n",
       "      <td>0.0</td>\n",
       "      <td>0.3</td>\n",
       "      <td>4.30</td>\n",
       "      <td>2.0</td>\n",
       "      <td>1.0</td>\n",
       "      <td>0.0</td>\n",
       "    </tr>\n",
       "    <tr>\n",
       "      <th>1</th>\n",
       "      <td>2.0</td>\n",
       "      <td>12/1/2019 0:26</td>\n",
       "      <td>12/1/2019 0:31</td>\n",
       "      <td>N</td>\n",
       "      <td>1.0</td>\n",
       "      <td>24</td>\n",
       "      <td>41</td>\n",
       "      <td>1.0</td>\n",
       "      <td>0.67</td>\n",
       "      <td>5.5</td>\n",
       "      <td>0.5</td>\n",
       "      <td>0.5</td>\n",
       "      <td>2.04</td>\n",
       "      <td>0.0</td>\n",
       "      <td>0.3</td>\n",
       "      <td>8.84</td>\n",
       "      <td>1.0</td>\n",
       "      <td>1.0</td>\n",
       "      <td>0.0</td>\n",
       "    </tr>\n",
       "    <tr>\n",
       "      <th>2</th>\n",
       "      <td>2.0</td>\n",
       "      <td>12/1/2019 0:56</td>\n",
       "      <td>12/1/2019 0:59</td>\n",
       "      <td>N</td>\n",
       "      <td>1.0</td>\n",
       "      <td>74</td>\n",
       "      <td>41</td>\n",
       "      <td>1.0</td>\n",
       "      <td>0.61</td>\n",
       "      <td>4.5</td>\n",
       "      <td>0.5</td>\n",
       "      <td>0.5</td>\n",
       "      <td>0.00</td>\n",
       "      <td>0.0</td>\n",
       "      <td>0.3</td>\n",
       "      <td>5.80</td>\n",
       "      <td>2.0</td>\n",
       "      <td>1.0</td>\n",
       "      <td>0.0</td>\n",
       "    </tr>\n",
       "    <tr>\n",
       "      <th>3</th>\n",
       "      <td>2.0</td>\n",
       "      <td>12/1/2019 0:26</td>\n",
       "      <td>12/1/2019 0:40</td>\n",
       "      <td>N</td>\n",
       "      <td>1.0</td>\n",
       "      <td>255</td>\n",
       "      <td>157</td>\n",
       "      <td>1.0</td>\n",
       "      <td>3.90</td>\n",
       "      <td>14.0</td>\n",
       "      <td>0.5</td>\n",
       "      <td>0.5</td>\n",
       "      <td>0.00</td>\n",
       "      <td>0.0</td>\n",
       "      <td>0.3</td>\n",
       "      <td>15.30</td>\n",
       "      <td>2.0</td>\n",
       "      <td>1.0</td>\n",
       "      <td>0.0</td>\n",
       "    </tr>\n",
       "    <tr>\n",
       "      <th>4</th>\n",
       "      <td>2.0</td>\n",
       "      <td>12/1/2019 0:56</td>\n",
       "      <td>12/1/2019 0:59</td>\n",
       "      <td>N</td>\n",
       "      <td>1.0</td>\n",
       "      <td>80</td>\n",
       "      <td>255</td>\n",
       "      <td>1.0</td>\n",
       "      <td>0.50</td>\n",
       "      <td>4.5</td>\n",
       "      <td>0.5</td>\n",
       "      <td>0.5</td>\n",
       "      <td>0.00</td>\n",
       "      <td>0.0</td>\n",
       "      <td>0.3</td>\n",
       "      <td>5.80</td>\n",
       "      <td>2.0</td>\n",
       "      <td>1.0</td>\n",
       "      <td>0.0</td>\n",
       "    </tr>\n",
       "  </tbody>\n",
       "</table>\n",
       "</div>"
      ],
      "text/plain": [
       "   VendorID lpep_pickup_datetime lpep_dropoff_datetime store_and_fwd_flag  \\\n",
       "0       1.0       12/1/2019 0:09        12/1/2019 0:10                  N   \n",
       "1       2.0       12/1/2019 0:26        12/1/2019 0:31                  N   \n",
       "2       2.0       12/1/2019 0:56        12/1/2019 0:59                  N   \n",
       "3       2.0       12/1/2019 0:26        12/1/2019 0:40                  N   \n",
       "4       2.0       12/1/2019 0:56        12/1/2019 0:59                  N   \n",
       "\n",
       "   RatecodeID  PULocationID  DOLocationID  passenger_count  trip_distance  \\\n",
       "0         1.0           145           145              1.0           0.00   \n",
       "1         1.0            24            41              1.0           0.67   \n",
       "2         1.0            74            41              1.0           0.61   \n",
       "3         1.0           255           157              1.0           3.90   \n",
       "4         1.0            80           255              1.0           0.50   \n",
       "\n",
       "   fare_amount  extra  mta_tax  tip_amount  tolls_amount  \\\n",
       "0          3.0    0.5      0.5        0.00           0.0   \n",
       "1          5.5    0.5      0.5        2.04           0.0   \n",
       "2          4.5    0.5      0.5        0.00           0.0   \n",
       "3         14.0    0.5      0.5        0.00           0.0   \n",
       "4          4.5    0.5      0.5        0.00           0.0   \n",
       "\n",
       "   improvement_surcharge  total_amount  payment_type  trip_type  \\\n",
       "0                    0.3          4.30           2.0        1.0   \n",
       "1                    0.3          8.84           1.0        1.0   \n",
       "2                    0.3          5.80           2.0        1.0   \n",
       "3                    0.3         15.30           2.0        1.0   \n",
       "4                    0.3          5.80           2.0        1.0   \n",
       "\n",
       "   congestion_surcharge  \n",
       "0                   0.0  \n",
       "1                   0.0  \n",
       "2                   0.0  \n",
       "3                   0.0  \n",
       "4                   0.0  "
      ]
     },
     "execution_count": 16,
     "metadata": {},
     "output_type": "execute_result"
    }
   ],
   "source": [
    "data.head()"
   ]
  },
  {
   "cell_type": "code",
   "execution_count": 17,
   "metadata": {},
   "outputs": [],
   "source": [
    "data = data.dropna()"
   ]
  },
  {
   "cell_type": "code",
   "execution_count": 18,
   "metadata": {},
   "outputs": [
    {
     "name": "stdout",
     "output_type": "stream",
     "text": [
      "(359900, 19)\n"
     ]
    }
   ],
   "source": [
    "print(data.shape)"
   ]
  },
  {
   "cell_type": "code",
   "execution_count": 19,
   "metadata": {},
   "outputs": [
    {
     "data": {
      "text/plain": [
       "VendorID                 0\n",
       "lpep_pickup_datetime     0\n",
       "lpep_dropoff_datetime    0\n",
       "store_and_fwd_flag       0\n",
       "RatecodeID               0\n",
       "PULocationID             0\n",
       "DOLocationID             0\n",
       "passenger_count          0\n",
       "trip_distance            0\n",
       "fare_amount              0\n",
       "extra                    0\n",
       "mta_tax                  0\n",
       "tip_amount               0\n",
       "tolls_amount             0\n",
       "improvement_surcharge    0\n",
       "total_amount             0\n",
       "payment_type             0\n",
       "trip_type                0\n",
       "congestion_surcharge     0\n",
       "dtype: int64"
      ]
     },
     "execution_count": 19,
     "metadata": {},
     "output_type": "execute_result"
    }
   ],
   "source": [
    "data.isnull().sum()"
   ]
  },
  {
   "cell_type": "markdown",
   "metadata": {},
   "source": [
    "Conclusion\n",
    "\n",
    "- In this data set, there are 90725 rows which have missing value.\n",
    "- There are 9 columns data with missing values.\n",
    "- The \"ehail_fee\" column had all NaN values, so I had removed that column.\n",
    "- I had removed all missing value of the data beacuse the size of the data is big and removing all NaN values won't effect it."
   ]
  },
  {
   "cell_type": "markdown",
   "metadata": {},
   "source": [
    "# 2. Visualization"
   ]
  },
  {
   "cell_type": "markdown",
   "metadata": {},
   "source": [
    "Let's see the Histogram for the data.\n",
    "Note:- Histogram only works on the numerical data."
   ]
  },
  {
   "cell_type": "code",
   "execution_count": 20,
   "metadata": {},
   "outputs": [
    {
     "data": {
      "image/png": "[encoded data removed]",
      "text/plain": [
       "<Figure size 1440x1080 with 16 Axes>"
      ]
     },
     "metadata": {
      "needs_background": "light"
     },
     "output_type": "display_data"
    }
   ],
   "source": [
    "data.hist(bins=20,figsize=(20,15));"
   ]
  },
  {
   "cell_type": "markdown",
   "metadata": {},
   "source": [
    "# 2.1 Store_and_fwd_flag graph"
   ]
  },
  {
   "cell_type": "code",
   "execution_count": 21,
   "metadata": {},
   "outputs": [
    {
     "data": {
      "image/png": "[encoded data removed]",
      "text/plain": [
       "<Figure size 432x288 with 1 Axes>"
      ]
     },
     "metadata": {
      "needs_background": "light"
     },
     "output_type": "display_data"
    }
   ],
   "source": [
    "sns.countplot(x='store_and_fwd_flag', data=data);"
   ]
  },
  {
   "cell_type": "markdown",
   "metadata": {},
   "source": [
    "Conclusion\n",
    "\n",
    "- This graph indicate that the maximum trip data was sent immediately to the server using app or website.\n",
    "- When the app or website or server does not work properly, the taxi driver hold the data. These data can create inconsistency or redundency in the data on the server.\n",
    "- It indicates that your server and app or website are working properly."
   ]
  },
  {
   "cell_type": "markdown",
   "metadata": {},
   "source": [
    "# 2.2 Tip Amount"
   ]
  },
  {
   "cell_type": "code",
   "execution_count": 22,
   "metadata": {},
   "outputs": [
    {
     "name": "stderr",
     "output_type": "stream",
     "text": [
      "'c' argument looks like a single numeric RGB or RGBA sequence, which should be avoided as value-mapping will have precedence in case its length matches with 'x' & 'y'.  Please use a 2-D array with a single row if you really want to specify the same RGB or RGBA value for all points.\n"
     ]
    },
    {
     "data": {
      "image/png": "[encoded data removed]",
      "text/plain": [
       "<Figure size 432x288 with 1 Axes>"
      ]
     },
     "metadata": {
      "needs_background": "light"
     },
     "output_type": "display_data"
    }
   ],
   "source": [
    "index_tip_amount_negative = data[data['tip_amount']<0].index\n",
    "data = data.drop(index_tip_amount_negative,axis=0)\n",
    "sns.boxenplot(data['tip_amount']);"
   ]
  },
  {
   "cell_type": "markdown",
   "metadata": {},
   "source": [
    "Conclusion\n",
    "\n",
    "- The tip amount is not dependent on any variable. It depends on the mood of the passenger.\n",
    "- There is no limit of tip amount and according to data analysis the maximum tip amount is 441 USD and minimum tip amount is 0 USD.\n",
    "- The maximum number of passengers don't give any amount of tip to the taxi driver."
   ]
  },
  {
   "cell_type": "markdown",
   "metadata": {},
   "source": [
    "# 2.3 VendorID graph"
   ]
  },
  {
   "cell_type": "code",
   "execution_count": 23,
   "metadata": {},
   "outputs": [
    {
     "data": {
      "image/png": "[encoded data removed]",
      "text/plain": [
       "<Figure size 432x288 with 1 Axes>"
      ]
     },
     "metadata": {
      "needs_background": "light"
     },
     "output_type": "display_data"
    }
   ],
   "source": [
    "sns.countplot(x='VendorID',data=data);"
   ]
  },
  {
   "cell_type": "markdown",
   "metadata": {},
   "source": [
    "Conclusion\n",
    "\n",
    "- There are two vendorID 1.0 and 2.0 which indicates two companies.\n",
    "- The 2nd company (2.0) involves in more pickup and dropoff.\n",
    "- The graph shows that the 2nd compnay(2.0) is more larger than the 1st company(1.0)."
   ]
  },
  {
   "cell_type": "markdown",
   "metadata": {},
   "source": [
    "# 2.4 Passenger_count graph"
   ]
  },
  {
   "cell_type": "code",
   "execution_count": 24,
   "metadata": {},
   "outputs": [
    {
     "data": {
      "image/png": "[encoded data removed]",
      "text/plain": [
       "<Figure size 432x288 with 1 Axes>"
      ]
     },
     "metadata": {
      "needs_background": "light"
     },
     "output_type": "display_data"
    }
   ],
   "source": [
    "sns.countplot(x='passenger_count',data=data);"
   ]
  },
  {
   "cell_type": "markdown",
   "metadata": {},
   "source": [
    "Conclusion\n",
    "\n",
    "- This graph indicates that most of the customer travels alone.\n",
    "- A taxi can handle a maximum of nine customer at a time.\n",
    "- Traveling, 4 customer at a time has the minimum number of the passenger count."
   ]
  },
  {
   "cell_type": "markdown",
   "metadata": {},
   "source": [
    "# 2.5 Payment_type graph"
   ]
  },
  {
   "cell_type": "code",
   "execution_count": 25,
   "metadata": {},
   "outputs": [
    {
     "data": {
      "image/png": "[encoded data removed]",
      "text/plain": [
       "<Figure size 432x288 with 1 Axes>"
      ]
     },
     "metadata": {
      "needs_background": "light"
     },
     "output_type": "display_data"
    }
   ],
   "source": [
    "sns.countplot(x='payment_type',data=data);"
   ]
  },
  {
   "cell_type": "markdown",
   "metadata": {},
   "source": [
    "Conclusion\n",
    "- There are five type of payment methods as follow-\n",
    "    - By cash\n",
    "    - By Card (Debit or Credit card)\n",
    "    - By Paytm\n",
    "    - By GooglePay\n",
    "    - By Paypal\n",
    "- The maximum number of passenger pay amount by cash or by card (credit or debit card)."
   ]
  },
  {
   "cell_type": "markdown",
   "metadata": {},
   "source": [
    "# 2.6 Pickup location ID and Drop off location ID"
   ]
  },
  {
   "cell_type": "code",
   "execution_count": 26,
   "metadata": {},
   "outputs": [
    {
     "data": {
      "text/plain": [
       "Text(0.5, 1.0, 'Drop off Location ID')"
      ]
     },
     "execution_count": 26,
     "metadata": {},
     "output_type": "execute_result"
    },
    {
     "data": {
      "image/png": "[encoded data removed]",
      "text/plain": [
       "<Figure size 1440x720 with 2 Axes>"
      ]
     },
     "metadata": {
      "needs_background": "light"
     },
     "output_type": "display_data"
    }
   ],
   "source": [
    "plt.figure(figsize=(20,10))\n",
    "plt.subplot(2,2,1)\n",
    "plt.hist(data['PULocationID'])\n",
    "plt.title('Pickup Location ID')\n",
    "plt.subplot(2,2,2)\n",
    "plt.hist(data['DOLocationID'])\n",
    "plt.title('Drop off Location ID')"
   ]
  },
  {
   "cell_type": "markdown",
   "metadata": {},
   "source": [
    "Conclusion\n",
    "- These graphs indicate that the pickup location ID and Drop off location ID are both related to each other. It means that the passenger are travelling to different area.\n",
    "- This pickup locations indicate societal area and the drop off loacations indicate the industrial area.\n",
    "- The distance between pickup location ID's and Drop off location ID's are average or long.\n",
    "- Thus, this indicate that for average or long distance, passenger choose green taxi."
   ]
  },
  {
   "cell_type": "markdown",
   "metadata": {},
   "source": [
    "# 2.7 Day graph"
   ]
  },
  {
   "cell_type": "code",
   "execution_count": 27,
   "metadata": {},
   "outputs": [],
   "source": [
    "data['lpep_dropoff_datetime'] = pd.to_datetime(data['lpep_dropoff_datetime'])\n",
    "data['lpep_pickup_datetime'] = pd.to_datetime(data['lpep_pickup_datetime'])"
   ]
  },
  {
   "cell_type": "code",
   "execution_count": 28,
   "metadata": {},
   "outputs": [],
   "source": [
    "fun = lambda x:x.day_name()\n",
    "data['day']=data['lpep_pickup_datetime'].apply(fun)"
   ]
  },
  {
   "cell_type": "code",
   "execution_count": 29,
   "metadata": {},
   "outputs": [
    {
     "data": {
      "text/plain": [
       "<matplotlib.axes._subplots.AxesSubplot at 0x2d92c212a58>"
      ]
     },
     "execution_count": 29,
     "metadata": {},
     "output_type": "execute_result"
    },
    {
     "data": {
      "image/png": "[encoded data removed]",
      "text/plain": [
       "<Figure size 720x360 with 1 Axes>"
      ]
     },
     "metadata": {
      "needs_background": "light"
     },
     "output_type": "display_data"
    }
   ],
   "source": [
    "plt.figure(figsize=(10,5))\n",
    "sns.countplot(x='day',data=data)"
   ]
  },
  {
   "cell_type": "markdown",
   "metadata": {},
   "source": [
    "Conclusion\n",
    "- Here, we can see that the paek time for taxi is on tuesday.\n",
    "- Wednesday had the lowest numbers of rides."
   ]
  },
  {
   "cell_type": "markdown",
   "metadata": {},
   "source": [
    "# 2.9 Monthly graph"
   ]
  },
  {
   "cell_type": "code",
   "execution_count": 30,
   "metadata": {},
   "outputs": [],
   "source": [
    "fun = lambda x:x.strftime('%d')\n",
    "data['day_of_month']= data['lpep_pickup_datetime'].apply(fun)"
   ]
  },
  {
   "cell_type": "code",
   "execution_count": 31,
   "metadata": {},
   "outputs": [
    {
     "data": {
      "image/png": "[encoded data removed]",
      "text/plain": [
       "<Figure size 1440x360 with 1 Axes>"
      ]
     },
     "metadata": {
      "needs_background": "light"
     },
     "output_type": "display_data"
    }
   ],
   "source": [
    "plt.figure(figsize=(20,5))\n",
    "sns.countplot(x='day_of_month', data=data);"
   ]
  },
  {
   "cell_type": "markdown",
   "metadata": {},
   "source": [
    "Conclusion\n",
    "- In this graph, we can see clearly that in the weekends (saturday and sunday), most of customers taking rest so that taxi services will beprovided to the minimum number of customers.\n",
    "- The last week of December, everyone is busy in Christmas day and new year party so that the graph of number of pickup is low rather than other day or normal day.\n",
    "- On Christmas Day(25 December 2019), there are few people travel on that day and more people are praying to God for blessing and happiness."
   ]
  },
  {
   "cell_type": "markdown",
   "metadata": {},
   "source": [
    "# 3 Feature relation"
   ]
  },
  {
   "cell_type": "markdown",
   "metadata": {},
   "source": [
    "# 3.1 Day Vs total_amount"
   ]
  },
  {
   "cell_type": "code",
   "execution_count": 32,
   "metadata": {},
   "outputs": [
    {
     "name": "stderr",
     "output_type": "stream",
     "text": [
      "C:\\Users\\vikas\\Anaconda3\\lib\\site-packages\\scipy\\stats\\stats.py:1713: FutureWarning: Using a non-tuple sequence for multidimensional indexing is deprecated; use `arr[tuple(seq)]` instead of `arr[seq]`. In the future this will be interpreted as an array index, `arr[np.array(seq)]`, which will result either in an error or a different result.\n",
      "  return np.add.reduce(sorted[indexer] * weights, axis=axis) / sumval\n"
     ]
    },
    {
     "data": {
      "image/png": "[encoded data removed]",
      "text/plain": [
       "<Figure size 720x360 with 1 Axes>"
      ]
     },
     "metadata": {
      "needs_background": "light"
     },
     "output_type": "display_data"
    }
   ],
   "source": [
    "plt.figure(figsize=(10,5))\n",
    "sns.barplot(x='day',y='total_amount',data=data);"
   ]
  },
  {
   "cell_type": "markdown",
   "metadata": {},
   "source": [
    "Conclusion\n",
    "- This graph show the total amount day wise which varies between 14 USD to 16 USD for whole week.\n",
    "- The total amount is maximum on Wednesday & Thursday."
   ]
  },
  {
   "cell_type": "markdown",
   "metadata": {},
   "source": [
    "# 3.2 VendorID Vs Passenger_count Vs Days"
   ]
  },
  {
   "cell_type": "code",
   "execution_count": 33,
   "metadata": {},
   "outputs": [
    {
     "data": {
      "image/png": "[encoded data removed]",
      "text/plain": [
       "<Figure size 720x360 with 1 Axes>"
      ]
     },
     "metadata": {
      "needs_background": "light"
     },
     "output_type": "display_data"
    }
   ],
   "source": [
    "plt.figure(figsize=(10,5))\n",
    "sns.barplot(x='VendorID',y='passenger_count',hue='day',data=data);"
   ]
  },
  {
   "cell_type": "markdown",
   "metadata": {},
   "source": [
    "Conclusion\n",
    "- On weekends, the maximum families or cuples want to spend time together so the number of passenger availing taxi services on weekends are more as compare to normal days for vendor 1.\n",
    "- For vendor 2, the maximum number of passenger availing taxi is on Mondaay.\n",
    "- This graph shows that the vendor 2 are handling more passenger than vendor 1 in a week."
   ]
  },
  {
   "cell_type": "markdown",
   "metadata": {},
   "source": [
    "# 3.3 Passenger_count Vs Fare_amount with VendorID"
   ]
  },
  {
   "cell_type": "code",
   "execution_count": 34,
   "metadata": {},
   "outputs": [
    {
     "data": {
      "image/png": "[encoded data removed]",
      "text/plain": [
       "<Figure size 720x360 with 1 Axes>"
      ]
     },
     "metadata": {
      "needs_background": "light"
     },
     "output_type": "display_data"
    }
   ],
   "source": [
    "plt.figure(figsize=(10,5))\n",
    "sns.barplot(x='passenger_count', y='fare_amount',hue='VendorID',data=data);"
   ]
  },
  {
   "cell_type": "markdown",
   "metadata": {},
   "source": [
    "Conclusion\n",
    "- In this bar plot, we can see that avrage fare_amount of VendorID 2.0 is high.\n",
    "- The vendor 2 provide more facility to passenger than the vendor 1.\n",
    "- There is a positive relation between passenger_count and fare_amount.\n",
    "- The VendorID 1.0 pnly take passenger upto 6.\n",
    "- When the number of passenger are varying between one to five, the fare amount of both companies are almost same."
   ]
  },
  {
   "cell_type": "markdown",
   "metadata": {},
   "source": [
    "# 3.4 Passenger_count Vs Pickup location ID Vs VendorID"
   ]
  },
  {
   "cell_type": "code",
   "execution_count": 35,
   "metadata": {},
   "outputs": [
    {
     "data": {
      "image/png": "[encoded data removed]",
      "text/plain": [
       "<Figure size 1440x720 with 2 Axes>"
      ]
     },
     "metadata": {
      "needs_background": "light"
     },
     "output_type": "display_data"
    }
   ],
   "source": [
    "plt.figure(figsize=(20,10))\n",
    "plt.subplot(2,2,1)\n",
    "sns.barplot(x='passenger_count',hue='VendorID',y='PULocationID',data=data);\n",
    "\n",
    "plt.subplot(2,2,2)\n",
    "sns.barplot(x='passenger_count',hue='VendorID',y='DOLocationID',data=data);"
   ]
  },
  {
   "cell_type": "markdown",
   "metadata": {},
   "source": [
    "Conclusion\n",
    "- The pickup and dropoff location ID are almost same when the number of passenger are from one to five.\n",
    "- There are large industrial area between 100 to 150 location ID.\n",
    "- The location ID which are more than 150, these are outside area of the New York city. So, the taxi have more number of passengers as compared area inside New York city."
   ]
  },
  {
   "cell_type": "markdown",
   "metadata": {},
   "source": [
    "# 3.5 Passenger_count Vs mta_tax"
   ]
  },
  {
   "cell_type": "code",
   "execution_count": 36,
   "metadata": {},
   "outputs": [
    {
     "data": {
      "image/png": "[encoded data removed]",
      "text/plain": [
       "<Figure size 720x360 with 1 Axes>"
      ]
     },
     "metadata": {
      "needs_background": "light"
     },
     "output_type": "display_data"
    }
   ],
   "source": [
    "plt.figure(figsize=(10, 5))\n",
    "sns.barplot(data['passenger_count'], data['mta_tax']);"
   ]
  },
  {
   "cell_type": "markdown",
   "metadata": {},
   "source": [
    "Conclusion\n",
    "- The mta_tax is highest when there are 6 passengers.\n",
    "- There is no mta_tax after 6 passengers."
   ]
  },
  {
   "cell_type": "markdown",
   "metadata": {},
   "source": [
    "# 3.6 Number of pickups Vs Hours of day"
   ]
  },
  {
   "cell_type": "code",
   "execution_count": 38,
   "metadata": {},
   "outputs": [],
   "source": [
    "fun = lambda x:x.strftime('%H')\n",
    "data['hours']= data['lpep_pickup_datetime'].apply(fun)"
   ]
  },
  {
   "cell_type": "code",
   "execution_count": 39,
   "metadata": {},
   "outputs": [
    {
     "data": {
      "text/plain": [
       "count     359880\n",
       "unique        24\n",
       "top           18\n",
       "freq       26676\n",
       "Name: hours, dtype: object"
      ]
     },
     "execution_count": 39,
     "metadata": {},
     "output_type": "execute_result"
    }
   ],
   "source": [
    "data['hours'].describe()"
   ]
  },
  {
   "cell_type": "code",
   "execution_count": 40,
   "metadata": {},
   "outputs": [
    {
     "data": {
      "image/png": "[encoded data removed]",
      "text/plain": [
       "<Figure size 1440x360 with 1 Axes>"
      ]
     },
     "metadata": {
      "needs_background": "light"
     },
     "output_type": "display_data"
    }
   ],
   "source": [
    "plt.figure(figsize=(20,5))\n",
    "sns.countplot(data['hours'])\n",
    "plt.ylabel('Number of pickup')\n",
    "plt.xlabel('Hour of day')\n",
    "plt.show();"
   ]
  },
  {
   "cell_type": "markdown",
   "metadata": {},
   "source": [
    "Conclusion\n",
    "- The number of pickups is lowest from 12:00 AM to 5:00 AM, becuase the taxi service available at night are minimum.\n",
    "- The number of pickups increases from 5:00 AM to 6:00 PM because this is the working hours for the public.\n",
    "- The number of pickups is maximum at 6:00 PM."
   ]
  },
  {
   "cell_type": "markdown",
   "metadata": {},
   "source": [
    "# 4 Correlation between the features"
   ]
  },
  {
   "cell_type": "code",
   "execution_count": 42,
   "metadata": {},
   "outputs": [
    {
     "data": {
      "text/html": [
       "<div>\n",
       "<style scoped>\n",
       "    .dataframe tbody tr th:only-of-type {\n",
       "        vertical-align: middle;\n",
       "    }\n",
       "\n",
       "    .dataframe tbody tr th {\n",
       "        vertical-align: top;\n",
       "    }\n",
       "\n",
       "    .dataframe thead th {\n",
       "        text-align: right;\n",
       "    }\n",
       "</style>\n",
       "<table border=\"1\" class=\"dataframe\">\n",
       "  <thead>\n",
       "    <tr style=\"text-align: right;\">\n",
       "      <th></th>\n",
       "      <th>VendorID</th>\n",
       "      <th>RatecodeID</th>\n",
       "      <th>PULocationID</th>\n",
       "      <th>DOLocationID</th>\n",
       "      <th>passenger_count</th>\n",
       "      <th>trip_distance</th>\n",
       "      <th>fare_amount</th>\n",
       "      <th>extra</th>\n",
       "      <th>mta_tax</th>\n",
       "      <th>tip_amount</th>\n",
       "      <th>tolls_amount</th>\n",
       "      <th>improvement_surcharge</th>\n",
       "      <th>total_amount</th>\n",
       "      <th>payment_type</th>\n",
       "      <th>trip_type</th>\n",
       "      <th>congestion_surcharge</th>\n",
       "    </tr>\n",
       "  </thead>\n",
       "  <tbody>\n",
       "    <tr>\n",
       "      <th>VendorID</th>\n",
       "      <td>1.000000</td>\n",
       "      <td>-0.006726</td>\n",
       "      <td>-0.018883</td>\n",
       "      <td>0.000001</td>\n",
       "      <td>0.082980</td>\n",
       "      <td>0.046717</td>\n",
       "      <td>-0.040255</td>\n",
       "      <td>-0.223394</td>\n",
       "      <td>-0.000761</td>\n",
       "      <td>0.046658</td>\n",
       "      <td>-0.018606</td>\n",
       "      <td>0.024554</td>\n",
       "      <td>-0.024005</td>\n",
       "      <td>0.019226</td>\n",
       "      <td>-0.010584</td>\n",
       "      <td>0.015328</td>\n",
       "    </tr>\n",
       "    <tr>\n",
       "      <th>RatecodeID</th>\n",
       "      <td>-0.006726</td>\n",
       "      <td>1.000000</td>\n",
       "      <td>0.072627</td>\n",
       "      <td>0.038592</td>\n",
       "      <td>-0.005815</td>\n",
       "      <td>0.064791</td>\n",
       "      <td>0.161990</td>\n",
       "      <td>-0.103806</td>\n",
       "      <td>-0.747784</td>\n",
       "      <td>0.033141</td>\n",
       "      <td>0.051972</td>\n",
       "      <td>-0.505166</td>\n",
       "      <td>0.136379</td>\n",
       "      <td>0.028701</td>\n",
       "      <td>0.907929</td>\n",
       "      <td>-0.050901</td>\n",
       "    </tr>\n",
       "    <tr>\n",
       "      <th>PULocationID</th>\n",
       "      <td>-0.018883</td>\n",
       "      <td>0.072627</td>\n",
       "      <td>1.000000</td>\n",
       "      <td>0.163542</td>\n",
       "      <td>0.019921</td>\n",
       "      <td>0.063085</td>\n",
       "      <td>0.068840</td>\n",
       "      <td>0.004494</td>\n",
       "      <td>-0.062943</td>\n",
       "      <td>0.017224</td>\n",
       "      <td>0.028300</td>\n",
       "      <td>-0.046370</td>\n",
       "      <td>0.062358</td>\n",
       "      <td>-0.014821</td>\n",
       "      <td>0.066087</td>\n",
       "      <td>-0.048101</td>\n",
       "    </tr>\n",
       "    <tr>\n",
       "      <th>DOLocationID</th>\n",
       "      <td>0.000001</td>\n",
       "      <td>0.038592</td>\n",
       "      <td>0.163542</td>\n",
       "      <td>1.000000</td>\n",
       "      <td>0.013297</td>\n",
       "      <td>0.092354</td>\n",
       "      <td>0.090886</td>\n",
       "      <td>0.077267</td>\n",
       "      <td>-0.023112</td>\n",
       "      <td>0.089660</td>\n",
       "      <td>0.015812</td>\n",
       "      <td>-0.014955</td>\n",
       "      <td>0.122479</td>\n",
       "      <td>-0.069597</td>\n",
       "      <td>0.031670</td>\n",
       "      <td>0.307750</td>\n",
       "    </tr>\n",
       "    <tr>\n",
       "      <th>passenger_count</th>\n",
       "      <td>0.082980</td>\n",
       "      <td>-0.005815</td>\n",
       "      <td>0.019921</td>\n",
       "      <td>0.013297</td>\n",
       "      <td>1.000000</td>\n",
       "      <td>0.004249</td>\n",
       "      <td>-0.005460</td>\n",
       "      <td>-0.002504</td>\n",
       "      <td>-0.001356</td>\n",
       "      <td>0.006522</td>\n",
       "      <td>-0.006364</td>\n",
       "      <td>-0.001419</td>\n",
       "      <td>-0.003062</td>\n",
       "      <td>0.016732</td>\n",
       "      <td>-0.005765</td>\n",
       "      <td>0.005260</td>\n",
       "    </tr>\n",
       "    <tr>\n",
       "      <th>trip_distance</th>\n",
       "      <td>0.046717</td>\n",
       "      <td>0.064791</td>\n",
       "      <td>0.063085</td>\n",
       "      <td>0.092354</td>\n",
       "      <td>0.004249</td>\n",
       "      <td>1.000000</td>\n",
       "      <td>0.793795</td>\n",
       "      <td>0.047394</td>\n",
       "      <td>-0.006571</td>\n",
       "      <td>0.272643</td>\n",
       "      <td>0.396753</td>\n",
       "      <td>0.015543</td>\n",
       "      <td>0.797492</td>\n",
       "      <td>-0.092845</td>\n",
       "      <td>0.028703</td>\n",
       "      <td>0.209930</td>\n",
       "    </tr>\n",
       "    <tr>\n",
       "      <th>fare_amount</th>\n",
       "      <td>-0.040255</td>\n",
       "      <td>0.161990</td>\n",
       "      <td>0.068840</td>\n",
       "      <td>0.090886</td>\n",
       "      <td>-0.005460</td>\n",
       "      <td>0.793795</td>\n",
       "      <td>1.000000</td>\n",
       "      <td>0.018591</td>\n",
       "      <td>-0.053533</td>\n",
       "      <td>0.261855</td>\n",
       "      <td>0.379538</td>\n",
       "      <td>0.021787</td>\n",
       "      <td>0.970890</td>\n",
       "      <td>-0.138769</td>\n",
       "      <td>0.114696</td>\n",
       "      <td>0.189139</td>\n",
       "    </tr>\n",
       "    <tr>\n",
       "      <th>extra</th>\n",
       "      <td>-0.223394</td>\n",
       "      <td>-0.103806</td>\n",
       "      <td>0.004494</td>\n",
       "      <td>0.077267</td>\n",
       "      <td>-0.002504</td>\n",
       "      <td>0.047394</td>\n",
       "      <td>0.018591</td>\n",
       "      <td>1.000000</td>\n",
       "      <td>0.128908</td>\n",
       "      <td>0.083226</td>\n",
       "      <td>-0.017644</td>\n",
       "      <td>0.108687</td>\n",
       "      <td>0.073349</td>\n",
       "      <td>-0.053582</td>\n",
       "      <td>-0.102660</td>\n",
       "      <td>0.226780</td>\n",
       "    </tr>\n",
       "    <tr>\n",
       "      <th>mta_tax</th>\n",
       "      <td>-0.000761</td>\n",
       "      <td>-0.747784</td>\n",
       "      <td>-0.062943</td>\n",
       "      <td>-0.023112</td>\n",
       "      <td>-0.001356</td>\n",
       "      <td>-0.006571</td>\n",
       "      <td>-0.053533</td>\n",
       "      <td>0.128908</td>\n",
       "      <td>1.000000</td>\n",
       "      <td>-0.004058</td>\n",
       "      <td>-0.028119</td>\n",
       "      <td>0.818046</td>\n",
       "      <td>-0.029217</td>\n",
       "      <td>-0.127271</td>\n",
       "      <td>-0.747275</td>\n",
       "      <td>0.054377</td>\n",
       "    </tr>\n",
       "    <tr>\n",
       "      <th>tip_amount</th>\n",
       "      <td>0.046658</td>\n",
       "      <td>0.033141</td>\n",
       "      <td>0.017224</td>\n",
       "      <td>0.089660</td>\n",
       "      <td>0.006522</td>\n",
       "      <td>0.272643</td>\n",
       "      <td>0.261855</td>\n",
       "      <td>0.083226</td>\n",
       "      <td>-0.004058</td>\n",
       "      <td>1.000000</td>\n",
       "      <td>0.154517</td>\n",
       "      <td>0.023428</td>\n",
       "      <td>0.459336</td>\n",
       "      <td>-0.457119</td>\n",
       "      <td>0.012017</td>\n",
       "      <td>0.264208</td>\n",
       "    </tr>\n",
       "    <tr>\n",
       "      <th>tolls_amount</th>\n",
       "      <td>-0.018606</td>\n",
       "      <td>0.051972</td>\n",
       "      <td>0.028300</td>\n",
       "      <td>0.015812</td>\n",
       "      <td>-0.006364</td>\n",
       "      <td>0.396753</td>\n",
       "      <td>0.379538</td>\n",
       "      <td>-0.017644</td>\n",
       "      <td>-0.028119</td>\n",
       "      <td>0.154517</td>\n",
       "      <td>1.000000</td>\n",
       "      <td>0.000766</td>\n",
       "      <td>0.444213</td>\n",
       "      <td>-0.071164</td>\n",
       "      <td>0.012267</td>\n",
       "      <td>0.000709</td>\n",
       "    </tr>\n",
       "    <tr>\n",
       "      <th>improvement_surcharge</th>\n",
       "      <td>0.024554</td>\n",
       "      <td>-0.505166</td>\n",
       "      <td>-0.046370</td>\n",
       "      <td>-0.014955</td>\n",
       "      <td>-0.001419</td>\n",
       "      <td>0.015543</td>\n",
       "      <td>0.021787</td>\n",
       "      <td>0.108687</td>\n",
       "      <td>0.818046</td>\n",
       "      <td>0.023428</td>\n",
       "      <td>0.000766</td>\n",
       "      <td>1.000000</td>\n",
       "      <td>0.042369</td>\n",
       "      <td>-0.150970</td>\n",
       "      <td>-0.532487</td>\n",
       "      <td>0.046557</td>\n",
       "    </tr>\n",
       "    <tr>\n",
       "      <th>total_amount</th>\n",
       "      <td>-0.024005</td>\n",
       "      <td>0.136379</td>\n",
       "      <td>0.062358</td>\n",
       "      <td>0.122479</td>\n",
       "      <td>-0.003062</td>\n",
       "      <td>0.797492</td>\n",
       "      <td>0.970890</td>\n",
       "      <td>0.073349</td>\n",
       "      <td>-0.029217</td>\n",
       "      <td>0.459336</td>\n",
       "      <td>0.444213</td>\n",
       "      <td>0.042369</td>\n",
       "      <td>1.000000</td>\n",
       "      <td>-0.233276</td>\n",
       "      <td>0.087624</td>\n",
       "      <td>0.296684</td>\n",
       "    </tr>\n",
       "    <tr>\n",
       "      <th>payment_type</th>\n",
       "      <td>0.019226</td>\n",
       "      <td>0.028701</td>\n",
       "      <td>-0.014821</td>\n",
       "      <td>-0.069597</td>\n",
       "      <td>0.016732</td>\n",
       "      <td>-0.092845</td>\n",
       "      <td>-0.138769</td>\n",
       "      <td>-0.053582</td>\n",
       "      <td>-0.127271</td>\n",
       "      <td>-0.457119</td>\n",
       "      <td>-0.071164</td>\n",
       "      <td>-0.150970</td>\n",
       "      <td>-0.233276</td>\n",
       "      <td>1.000000</td>\n",
       "      <td>0.031719</td>\n",
       "      <td>-0.165382</td>\n",
       "    </tr>\n",
       "    <tr>\n",
       "      <th>trip_type</th>\n",
       "      <td>-0.010584</td>\n",
       "      <td>0.907929</td>\n",
       "      <td>0.066087</td>\n",
       "      <td>0.031670</td>\n",
       "      <td>-0.005765</td>\n",
       "      <td>0.028703</td>\n",
       "      <td>0.114696</td>\n",
       "      <td>-0.102660</td>\n",
       "      <td>-0.747275</td>\n",
       "      <td>0.012017</td>\n",
       "      <td>0.012267</td>\n",
       "      <td>-0.532487</td>\n",
       "      <td>0.087624</td>\n",
       "      <td>0.031719</td>\n",
       "      <td>1.000000</td>\n",
       "      <td>-0.046446</td>\n",
       "    </tr>\n",
       "    <tr>\n",
       "      <th>congestion_surcharge</th>\n",
       "      <td>0.015328</td>\n",
       "      <td>-0.050901</td>\n",
       "      <td>-0.048101</td>\n",
       "      <td>0.307750</td>\n",
       "      <td>0.005260</td>\n",
       "      <td>0.209930</td>\n",
       "      <td>0.189139</td>\n",
       "      <td>0.226780</td>\n",
       "      <td>0.054377</td>\n",
       "      <td>0.264208</td>\n",
       "      <td>0.000709</td>\n",
       "      <td>0.046557</td>\n",
       "      <td>0.296684</td>\n",
       "      <td>-0.165382</td>\n",
       "      <td>-0.046446</td>\n",
       "      <td>1.000000</td>\n",
       "    </tr>\n",
       "  </tbody>\n",
       "</table>\n",
       "</div>"
      ],
      "text/plain": [
       "                       VendorID  RatecodeID  PULocationID  DOLocationID  \\\n",
       "VendorID               1.000000   -0.006726     -0.018883      0.000001   \n",
       "RatecodeID            -0.006726    1.000000      0.072627      0.038592   \n",
       "PULocationID          -0.018883    0.072627      1.000000      0.163542   \n",
       "DOLocationID           0.000001    0.038592      0.163542      1.000000   \n",
       "passenger_count        0.082980   -0.005815      0.019921      0.013297   \n",
       "trip_distance          0.046717    0.064791      0.063085      0.092354   \n",
       "fare_amount           -0.040255    0.161990      0.068840      0.090886   \n",
       "extra                 -0.223394   -0.103806      0.004494      0.077267   \n",
       "mta_tax               -0.000761   -0.747784     -0.062943     -0.023112   \n",
       "tip_amount             0.046658    0.033141      0.017224      0.089660   \n",
       "tolls_amount          -0.018606    0.051972      0.028300      0.015812   \n",
       "improvement_surcharge  0.024554   -0.505166     -0.046370     -0.014955   \n",
       "total_amount          -0.024005    0.136379      0.062358      0.122479   \n",
       "payment_type           0.019226    0.028701     -0.014821     -0.069597   \n",
       "trip_type             -0.010584    0.907929      0.066087      0.031670   \n",
       "congestion_surcharge   0.015328   -0.050901     -0.048101      0.307750   \n",
       "\n",
       "                       passenger_count  trip_distance  fare_amount     extra  \\\n",
       "VendorID                      0.082980       0.046717    -0.040255 -0.223394   \n",
       "RatecodeID                   -0.005815       0.064791     0.161990 -0.103806   \n",
       "PULocationID                  0.019921       0.063085     0.068840  0.004494   \n",
       "DOLocationID                  0.013297       0.092354     0.090886  0.077267   \n",
       "passenger_count               1.000000       0.004249    -0.005460 -0.002504   \n",
       "trip_distance                 0.004249       1.000000     0.793795  0.047394   \n",
       "fare_amount                  -0.005460       0.793795     1.000000  0.018591   \n",
       "extra                        -0.002504       0.047394     0.018591  1.000000   \n",
       "mta_tax                      -0.001356      -0.006571    -0.053533  0.128908   \n",
       "tip_amount                    0.006522       0.272643     0.261855  0.083226   \n",
       "tolls_amount                 -0.006364       0.396753     0.379538 -0.017644   \n",
       "improvement_surcharge        -0.001419       0.015543     0.021787  0.108687   \n",
       "total_amount                 -0.003062       0.797492     0.970890  0.073349   \n",
       "payment_type                  0.016732      -0.092845    -0.138769 -0.053582   \n",
       "trip_type                    -0.005765       0.028703     0.114696 -0.102660   \n",
       "congestion_surcharge          0.005260       0.209930     0.189139  0.226780   \n",
       "\n",
       "                        mta_tax  tip_amount  tolls_amount  \\\n",
       "VendorID              -0.000761    0.046658     -0.018606   \n",
       "RatecodeID            -0.747784    0.033141      0.051972   \n",
       "PULocationID          -0.062943    0.017224      0.028300   \n",
       "DOLocationID          -0.023112    0.089660      0.015812   \n",
       "passenger_count       -0.001356    0.006522     -0.006364   \n",
       "trip_distance         -0.006571    0.272643      0.396753   \n",
       "fare_amount           -0.053533    0.261855      0.379538   \n",
       "extra                  0.128908    0.083226     -0.017644   \n",
       "mta_tax                1.000000   -0.004058     -0.028119   \n",
       "tip_amount            -0.004058    1.000000      0.154517   \n",
       "tolls_amount          -0.028119    0.154517      1.000000   \n",
       "improvement_surcharge  0.818046    0.023428      0.000766   \n",
       "total_amount          -0.029217    0.459336      0.444213   \n",
       "payment_type          -0.127271   -0.457119     -0.071164   \n",
       "trip_type             -0.747275    0.012017      0.012267   \n",
       "congestion_surcharge   0.054377    0.264208      0.000709   \n",
       "\n",
       "                       improvement_surcharge  total_amount  payment_type  \\\n",
       "VendorID                            0.024554     -0.024005      0.019226   \n",
       "RatecodeID                         -0.505166      0.136379      0.028701   \n",
       "PULocationID                       -0.046370      0.062358     -0.014821   \n",
       "DOLocationID                       -0.014955      0.122479     -0.069597   \n",
       "passenger_count                    -0.001419     -0.003062      0.016732   \n",
       "trip_distance                       0.015543      0.797492     -0.092845   \n",
       "fare_amount                         0.021787      0.970890     -0.138769   \n",
       "extra                               0.108687      0.073349     -0.053582   \n",
       "mta_tax                             0.818046     -0.029217     -0.127271   \n",
       "tip_amount                          0.023428      0.459336     -0.457119   \n",
       "tolls_amount                        0.000766      0.444213     -0.071164   \n",
       "improvement_surcharge               1.000000      0.042369     -0.150970   \n",
       "total_amount                        0.042369      1.000000     -0.233276   \n",
       "payment_type                       -0.150970     -0.233276      1.000000   \n",
       "trip_type                          -0.532487      0.087624      0.031719   \n",
       "congestion_surcharge                0.046557      0.296684     -0.165382   \n",
       "\n",
       "                       trip_type  congestion_surcharge  \n",
       "VendorID               -0.010584              0.015328  \n",
       "RatecodeID              0.907929             -0.050901  \n",
       "PULocationID            0.066087             -0.048101  \n",
       "DOLocationID            0.031670              0.307750  \n",
       "passenger_count        -0.005765              0.005260  \n",
       "trip_distance           0.028703              0.209930  \n",
       "fare_amount             0.114696              0.189139  \n",
       "extra                  -0.102660              0.226780  \n",
       "mta_tax                -0.747275              0.054377  \n",
       "tip_amount              0.012017              0.264208  \n",
       "tolls_amount            0.012267              0.000709  \n",
       "improvement_surcharge  -0.532487              0.046557  \n",
       "total_amount            0.087624              0.296684  \n",
       "payment_type            0.031719             -0.165382  \n",
       "trip_type               1.000000             -0.046446  \n",
       "congestion_surcharge   -0.046446              1.000000  "
      ]
     },
     "execution_count": 42,
     "metadata": {},
     "output_type": "execute_result"
    }
   ],
   "source": [
    "corr = data.corr()\n",
    "corr"
   ]
  },
  {
   "cell_type": "code",
   "execution_count": 43,
   "metadata": {},
   "outputs": [
    {
     "data": {
      "image/png": "[encoded data removed]",
      "text/plain": [
       "<Figure size 720x720 with 2 Axes>"
      ]
     },
     "metadata": {
      "needs_background": "light"
     },
     "output_type": "display_data"
    }
   ],
   "source": [
    "plt.figure(figsize=(10,10))\n",
    "sns.heatmap(corr);"
   ]
  },
  {
   "cell_type": "markdown",
   "metadata": {},
   "source": [
    "Conclusion\n",
    "- A negative correlation indicates that there is a negative relation between the two variables. It states that there is a weak relationship between the variables thus means the change in one variable does not affect the other variable. These are: \n",
    "    - mta_tax and RatecodeID (No Correlation)\n",
    "    - mta_tax and trip_type (No Correlation)\n",
    "- A positive correlation indicates that there is a postive relation between the two variables. It states that there is strong relationship between the variables thus means the change in one variable will effect the other variable. These are:\n",
    "    - fare_amount and total_amount (Highly Correlation)"
   ]
  }
 ],
 "metadata": {
  "kernelspec": {
   "display_name": "Python 3",
   "language": "python",
   "name": "python3"
  },
  "language_info": {
   "codemirror_mode": {
    "name": "ipython",
    "version": 3
   },
   "file_extension": ".py",
   "mimetype": "text/x-python",
   "name": "python",
   "nbconvert_exporter": "python",
   "pygments_lexer": "ipython3",
   "version": "3.7.1"
  }
 },
 "nbformat": 4,
 "nbformat_minor": 2
}
